{
  "metadata": {
    "kernelspec": {
      "name": "python",
      "display_name": "Python (Pyodide)",
      "language": "python"
    },
    "language_info": {
      "codemirror_mode": {
        "name": "python",
        "version": 3
      },
      "file_extension": ".py",
      "mimetype": "text/x-python",
      "name": "python",
      "nbconvert_exporter": "python",
      "pygments_lexer": "ipython3",
      "version": "3.8"
    }
  },
  "nbformat_minor": 4,
  "nbformat": 4,
  "cells": [
    {
      "cell_type": "code",
      "source": "import numpy\nfrom keras.datasets import imdb\nfrom keras.models import Sequential\nfrom keras.layers import Dense\nfrom keras.layers import LSTM\nfrom keras.layers.embeddings import Embedding\nfrom keras.layers.convolutional import Conv1D\nfrom keras.layers.convolutional import MaxPooling1D\nfrom keras.preprocessing import sequence\nnumpy.random.seed(7)\n# import、引入随机seed、导入数据",
      "metadata": {},
      "outputs": [],
      "execution_count": 8
    },
    {
      "cell_type": "code",
      "source": "# 加载数据\ntop_words = 5000\n(X_train, y_train), (X_test, y_test) = imdb.load_data(num_words=top_words)",
      "metadata": {},
      "outputs": [
        {
          "name": "stdout",
          "output_type": "stream",
          "text": "Downloading data from https://s3.amazonaws.com/text-datasets/imdb.npz\n,17399808/17464789 [============================>.] - ETA: 0s"
        }
      ],
      "execution_count": 4
    },
    {
      "cell_type": "code",
      "source": "# 截断和填充输入序列\nmax_review_length = 500\nX_train = sequence.pad_sequences(X_train, maxlen=max_review_length)\nX_test = sequence.pad_sequences(X_test, maxlen=max_review_length)",
      "metadata": {},
      "outputs": [],
      "execution_count": 5
    },
    {
      "cell_type": "code",
      "source": "# 创建模型\nembedding_vecor_length = 32\nmodel = Sequential()\nmodel.add(Embedding(top_words, embedding_vecor_length, input_length=max_review_length))\nmodel.add(Conv1D(filters=32, kernel_size=3, padding='same', activation='relu'))\nmodel.add(MaxPooling1D(pool_size=2))\nmodel.add(LSTM(100))\nmodel.add(Dense(1, activation='sigmoid'))\nmodel.compile(loss='binary_crossentropy', optimizer='adam', metrics=['accuracy'])\nprint(model.summary())\nmodel.fit(X_train, y_train, epochs=6, batch_size=256)\nscores = model.evaluate(X_test, y_test, verbose=0)\nprint(\"Accuracy: %.2f%%\" % (scores[1]*100))",
      "metadata": {},
      "outputs": [
        {
          "name": "stdout",
          "output_type": "stream",
          "text": "_________________________________________________________________\n,Layer (type)                 Output Shape              Param #   \n,=================================================================\n,embedding_3 (Embedding)      (None, 500, 32)           160000    \n,_________________________________________________________________\n,conv1d_2 (Conv1D)            (None, 500, 32)           3104      \n,_________________________________________________________________\n,max_pooling1d_2 (MaxPooling1 (None, 250, 32)           0         \n,_________________________________________________________________\n,lstm_3 (LSTM)                (None, 100)               53200     \n,_________________________________________________________________\n,dense_3 (Dense)              (None, 1)                 101       \n,=================================================================\n,Total params: 216,405\n,Trainable params: 216,405\n,Non-trainable params: 0\n,_________________________________________________________________\n,None\n,Epoch 1/6\n,25000/25000 [==============================] - 310s - loss: 0.5515 - acc: 0.6964   \n,Epoch 2/6\n,25000/25000 [==============================] - 303s - loss: 0.2666 - acc: 0.8937   \n,Epoch 3/6\n,25000/25000 [==============================] - 315s - loss: 0.2026 - acc: 0.9250   \n,Epoch 4/6\n,25000/25000 [==============================] - 312s - loss: 0.1777 - acc: 0.9352   \n,Epoch 5/6\n,25000/25000 [==============================] - 309s - loss: 0.1563 - acc: 0.9450   \n,Epoch 6/6\n,25000/25000 [==============================] - 304s - loss: 0.1372 - acc: 0.9521   \n,Accuracy: 87.49%\n"
        }
      ],
      "execution_count": 10
    },
    {
      "cell_type": "code",
      "source": "# 正确率\nscores = model.evaluate(X_test, y_test, verbose=0)\nprint(\"Accuracy: %.2f%%\" % (scores[1]*100))",
      "metadata": {},
      "outputs": [
        {
          "name": "stdout",
          "output_type": "stream",
          "text": "Accuracy: 87.49%\n"
        }
      ],
      "execution_count": 11
    }
  ]
}